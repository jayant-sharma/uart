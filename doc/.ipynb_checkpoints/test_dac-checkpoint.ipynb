{
 "metadata": {
  "name": "",
  "signature": "sha256:a609555aec043046f7b89d1da48dfd2f0dfcf93f278af093d77fe84d505a30fa"
 },
 "nbformat": 3,
 "nbformat_minor": 0,
 "worksheets": [
  {
   "cells": [
    {
     "cell_type": "code",
     "collapsed": false,
     "input": [
      "!mkdir -p ../testbench/dac"
     ],
     "language": "python",
     "metadata": {},
     "outputs": [],
     "prompt_number": 3
    },
    {
     "cell_type": "code",
     "collapsed": false,
     "input": [
      "%%writefile ../testbench/dac/test_dac.py\n",
      "\n",
      "import random\n",
      "import cocotb\n",
      "from cocotb.clock import Clock\n",
      "from cocotb.triggers import Timer, RisingEdge, ReadOnly\n",
      "from cocotb.result import TestFailure, ReturnValue\n",
      "\n",
      "@cocotb.coroutine\n",
      "def rst_dac(dut):\n",
      "    \"\"\"This coroutine performs a reset\"\"\"\n",
      "    yield RisingEdge(dut.clk)                  # Synchronise to the read clock\n",
      "    dut.rst = 1\n",
      "    dut.conv = 0\n",
      "    dut.dac_in = 0  \n",
      "    yield RisingEdge(dut.clk)                  # Synchronise to the read clock\n",
      "    dut.rst = 0\n",
      "    yield RisingEdge(dut.clk)                  # Synchronise to the read clock\n",
      "    \n",
      "@cocotb.coroutine\n",
      "def conv_dac(dut, value):\n",
      "    \"\"\"This coroutine performs a DAC conversion\"\"\"\n",
      "    yield RisingEdge(dut.clk)                  # Synchronise to the read clock\n",
      "    dut.rst = 0\n",
      "    dut.conv = 1\n",
      "    dut.dac_in = value                        # Drive the values\n",
      "    yield RisingEdge(dut.clk)                  # Wait 1 clock cycle\n",
      "#    yield ReadOnly()                           # Wait until all events have executed for this timestep\n",
      "    raise ReturnValue(int(dut.dac_out.value))  # Read back the value\n",
      "\n",
      "@cocotb.test()\n",
      "def test_dac(dut):\n",
      "    \"\"\"Try converting digital data\"\"\"\n",
      "    SIG = {}\n",
      "    # Read the parameters back from the DUT to set up our model\n",
      "    resolution = dut.RES.value.integer\n",
      "    dut.log.info(\"Found %d bit resolution DAC\" % (resolution))\n",
      "    # Set up independent read/write clocks\n",
      "    cocotb.fork(Clock(dut.clk, 10).start())\n",
      "    \n",
      "    yield rst_dac(dut)\n",
      "    \n",
      "    for cycle in xrange(20):\n",
      "        yield RisingEdge(dut.clk)\n",
      "        \n",
      "    dut.log.info(\"Writing in random values\")\n",
      "    for i in xrange(20):\n",
      "        SIG[i] = int(random.getrandbits(resolution))\n",
      "        analog = yield conv_dac(dut, SIG[i])\n",
      "        dut.log.info(\"%d   %d\" % (analog, SIG[i]))\n",
      "        \n",
      "    dut.log.info(\"Conversion done\")"
     ],
     "language": "python",
     "metadata": {},
     "outputs": [
      {
       "output_type": "stream",
       "stream": "stdout",
       "text": [
        "Overwriting ../testbench/dac/test_dac.py\n"
       ]
      }
     ],
     "prompt_number": 58
    },
    {
     "cell_type": "code",
     "collapsed": false,
     "input": [
      "%%writefile ../testbench/dac/Makefile\n",
      "\n",
      "TOPLEVEL = dac\n",
      "PWD=$(shell pwd)\n",
      "COCOTB=/home/jayant/devel/cocotb\n",
      "SRC=$(PWD)/../../hdl\n",
      "\n",
      "VERILOG_SOURCES =  $(SRC)/dac.v $(SRC)/tb.v\n",
      "MODULE=test_dac #cocotb,test_discovery,test_external,test_regression\n",
      "EXTRA_ARGS=-I ../../include -I ../../hdl\n",
      "SIM_ARGS=-lxt2\n",
      "      \n",
      "include $(COCOTB)/makefiles/Makefile.inc\n",
      "include $(COCOTB)/makefiles/Makefile.sim"
     ],
     "language": "python",
     "metadata": {},
     "outputs": [
      {
       "output_type": "stream",
       "stream": "stdout",
       "text": [
        "Overwriting ../testbench/dac/Makefile\n"
       ]
      }
     ],
     "prompt_number": 59
    },
    {
     "cell_type": "code",
     "collapsed": false,
     "input": [
      "!pushd ../testbench/dac; make; popd"
     ],
     "language": "python",
     "metadata": {},
     "outputs": [
      {
       "output_type": "stream",
       "stream": "stdout",
       "text": [
        "~/devel/git_reps/dac/testbench/dac ~/devel/git_reps/dac/doc\r\n"
       ]
      },
      {
       "output_type": "stream",
       "stream": "stdout",
       "text": [
        "make results.xml\r\n"
       ]
      },
      {
       "output_type": "stream",
       "stream": "stdout",
       "text": [
        "make[1]: Entering directory `/home/jayant/devel/git_reps/dac/testbench/dac'\r\n",
        "PYTHONPATH=/home/jayant/devel/cocotb/build/libs/x86_64:/home/jayant/devel/cocotb:/home/jayant/devel/git_reps/dac/testbench/dac: LD_LIBRARY_PATH=/home/jayant/devel/cocotb/build/libs/x86_64: MODULE=test_dac  \\\r\n",
        "        TESTCASE= TOPLEVEL=dac \\\r\n",
        "        vvp -M /home/jayant/devel/cocotb/build/libs/x86_64 -m gpivpi sim_build/sim.vvp -lxt2 -I ../../include -I ../../hdl \r\n"
       ]
      },
      {
       "output_type": "stream",
       "stream": "stdout",
       "text": [
        "     0.00ns \u001b[34mINFO    \u001b[39m cocotb.gpi                                  gpi_embed.c:205  in embed_sim_init                  \u001b[34mRunning on Icarus Verilog version 0.9.6 \u001b[39m\r\n",
        "     0.00ns \u001b[34mINFO    \u001b[39m cocotb.gpi                                  gpi_embed.c:206  in embed_sim_init                  \u001b[34mPython interpreter initialised and cocotb loaded!\u001b[39m\r\n",
        "     0.00ns \u001b[34mINFO    \u001b[39m cocotb.gpi                                  __init__.py:101  in _initialise_testbench           \u001b[34mSeeding Python random module with 1417675089\u001b[39m\r\n",
        "     0.00ns \u001b[34mINFO    \u001b[39m cocotb.gpi                                  __init__.py:115  in _initialise_testbench           \u001b[34mRunning tests with Cocotb v0.5a from /home/jayant/devel/cocotb\u001b[39m\r\n",
        "     0.00ns \u001b[34mINFO    \u001b[39m cocotb.regression                         regression.py:123  in initialise                      \u001b[34mFound test test_dac.test_dac\u001b[39m\r\n",
        "     0.00ns \u001b[34mINFO    \u001b[39m cocotb.regression                         regression.py:194  in execute                         \u001b[34m\u001b[44m\u001b[30mRunning test 1/1:\u001b[39m\u001b[49m test_dac\u001b[39m\r\n",
        "     0.00ns \u001b[34mINFO    \u001b[39m ..coroutine.test_dac.0x7fcc2302d050       decorators.py:176  in send                            \u001b[34mStarting test: \"test_dac\"\r\n",
        "                                                                                                                               Description: Try converting digital data\u001b[39m\r\n",
        "     0.00ns \u001b[34mINFO    \u001b[39m cocotb.dac                                  test_dac.py:36   in test_dac                        \u001b[34mFound 8 bit resolution DAC\u001b[39m\r\n",
        "LXT2 info: dumpfile dump.lxt opened for output.\r\n",
        "     0.22ns \u001b[34mINFO    \u001b[39m cocotb.dac                                  test_dac.py:45   in test_dac                        \u001b[34mWriting in random values\u001b[39m\r\n",
        "     0.24ns \u001b[34mINFO    \u001b[39m cocotb.dac                                  test_dac.py:49   in test_dac                        \u001b[34m0   18\u001b[39m\r\n",
        "     0.26ns \u001b[34mINFO    \u001b[39m cocotb.dac                                  test_dac.py:49   in test_dac                        \u001b[34m0   53\u001b[39m\r\n",
        "     0.28ns \u001b[34mINFO    \u001b[39m cocotb.dac                                  test_dac.py:49   in test_dac                        \u001b[34m0   81\u001b[39m\r\n",
        "     0.30ns \u001b[34mINFO    \u001b[39m cocotb.dac                                  test_dac.py:49   in test_dac                        \u001b[34m0   203\u001b[39m\r\n",
        "     0.32ns \u001b[34mINFO    \u001b[39m cocotb.dac                                  test_dac.py:49   in test_dac                        \u001b[34m0   250\u001b[39m\r\n",
        "     0.34ns \u001b[34mINFO    \u001b[39m cocotb.dac                                  test_dac.py:49   in test_dac                        \u001b[34m0   51\u001b[39m\r\n",
        "     0.36ns \u001b[34mINFO    \u001b[39m cocotb.dac                                  test_dac.py:49   in test_dac                        \u001b[34m0   240\u001b[39m\r\n",
        "     0.38ns \u001b[34mINFO    \u001b[39m cocotb.dac                                  test_dac.py:49   in test_dac                        \u001b[34m0   92\u001b[39m\r\n",
        "     0.40ns \u001b[34mINFO    \u001b[39m cocotb.dac                                  test_dac.py:49   in test_dac                        \u001b[34m0   205\u001b[39m\r\n",
        "     0.42ns \u001b[34mINFO    \u001b[39m cocotb.dac                                  test_dac.py:49   in test_dac                        \u001b[34m0   4\u001b[39m\r\n",
        "     0.44ns \u001b[34mINFO    \u001b[39m cocotb.dac                                  test_dac.py:49   in test_dac                        \u001b[34m0   103\u001b[39m\r\n",
        "     0.46ns \u001b[34mINFO    \u001b[39m cocotb.dac                                  test_dac.py:49   in test_dac                        \u001b[34m0   213\u001b[39m\r\n",
        "     0.48ns \u001b[34mINFO    \u001b[39m cocotb.dac                                  test_dac.py:49   in test_dac                        \u001b[34m0   93\u001b[39m\r\n"
       ]
      },
      {
       "output_type": "stream",
       "stream": "stdout",
       "text": [
        "     0.50ns \u001b[34mINFO    \u001b[39m cocotb.dac                                  test_dac.py:49   in test_dac                        \u001b[34m0   21\u001b[39m\r\n",
        "     0.52ns \u001b[34mINFO    \u001b[39m cocotb.dac                                  test_dac.py:49   in test_dac                        \u001b[34m0   102\u001b[39m\r\n",
        "     0.54ns \u001b[34mINFO    \u001b[39m cocotb.dac                                  test_dac.py:49   in test_dac                        \u001b[34m0   7\u001b[39m\r\n",
        "     0.56ns \u001b[34mINFO    \u001b[39m cocotb.dac                                  test_dac.py:49   in test_dac                        \u001b[34m0   7\u001b[39m\r\n",
        "     0.58ns \u001b[34mINFO    \u001b[39m cocotb.dac                                  test_dac.py:49   in test_dac                        \u001b[34m0   237\u001b[39m\r\n",
        "     0.60ns \u001b[34mINFO    \u001b[39m cocotb.dac                                  test_dac.py:49   in test_dac                        \u001b[34m0   132\u001b[39m\r\n",
        "     0.62ns \u001b[34mINFO    \u001b[39m cocotb.dac                                  test_dac.py:49   in test_dac                        \u001b[34m0   96\u001b[39m\r\n",
        "     0.62ns \u001b[34mINFO    \u001b[39m cocotb.dac                                  test_dac.py:51   in test_dac                        \u001b[34mConversion done\u001b[39m\r\n",
        "     0.62ns \u001b[34mINFO    \u001b[39m cocotb.regression                         regression.py:156  in handle_result                   \u001b[34mTest Passed: test_dac\u001b[39m\r\n",
        "     0.62ns \u001b[34mINFO    \u001b[39m cocotb.regression                         regression.py:132  in tear_down                       \u001b[34mPassed 1 tests (0 skipped)\u001b[39m\r\n",
        "     0.62ns \u001b[34mINFO    \u001b[39m cocotb.regression                         regression.py:133  in tear_down                       \u001b[34mShutting down...\u001b[39m\r\n",
        "make[1]: Leaving directory `/home/jayant/devel/git_reps/dac/testbench/dac'\r\n",
        "~/devel/git_reps/dac/doc\r\n"
       ]
      }
     ],
     "prompt_number": 60
    },
    {
     "cell_type": "code",
     "collapsed": false,
     "input": [],
     "language": "python",
     "metadata": {},
     "outputs": []
    }
   ],
   "metadata": {}
  }
 ]
}